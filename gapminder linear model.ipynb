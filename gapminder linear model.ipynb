{
 "cells": [
  {
   "cell_type": "markdown",
   "metadata": {},
   "source": [
    "# Linear regression on GAPMINDER dataset"
   ]
  },
  {
   "cell_type": "code",
   "execution_count": 2,
   "metadata": {},
   "outputs": [
    {
     "name": "stdout",
     "output_type": "stream",
     "text": [
      "   population  fertility  HIV        CO2  BMI_male      GDP  BMI_female  life  \\\n",
      "0  34811059.0       2.73  0.1   3.328945  24.59620  12314.0    129.9049  75.3   \n",
      "1  19842251.0       6.43  2.0   1.474353  22.25083   7103.0    130.1247  58.3   \n",
      "2  40381860.0       2.24  0.5   4.785170  27.50170  14646.0    118.8915  75.5   \n",
      "3   2975029.0       1.40  0.1   1.804106  25.35542   7383.0    132.8108  72.5   \n",
      "4  21370348.0       1.96  0.1  18.016313  27.56373  41312.0    117.3755  81.5   \n",
      "\n",
      "   child_mortality                      Region  \n",
      "0             29.5  Middle East & North Africa  \n",
      "1            192.0          Sub-Saharan Africa  \n",
      "2             15.4                     America  \n",
      "3             20.0       Europe & Central Asia  \n",
      "4              5.2         East Asia & Pacific  \n",
      "<class 'pandas.core.frame.DataFrame'>\n",
      "RangeIndex: 139 entries, 0 to 138\n",
      "Data columns (total 10 columns):\n",
      "population         139 non-null float64\n",
      "fertility          139 non-null float64\n",
      "HIV                139 non-null float64\n",
      "CO2                139 non-null float64\n",
      "BMI_male           139 non-null float64\n",
      "GDP                139 non-null float64\n",
      "BMI_female         139 non-null float64\n",
      "life               139 non-null float64\n",
      "child_mortality    139 non-null float64\n",
      "Region             139 non-null object\n",
      "dtypes: float64(9), object(1)\n",
      "memory usage: 10.9+ KB\n",
      "None\n",
      "         population   fertility         HIV         CO2    BMI_male  \\\n",
      "count  1.390000e+02  139.000000  139.000000  139.000000  139.000000   \n",
      "mean   3.549977e+07    3.005108    1.915612    4.459874   24.623054   \n",
      "std    1.095121e+08    1.615354    4.408974    6.268349    2.209368   \n",
      "min    2.773150e+05    1.280000    0.060000    0.008618   20.397420   \n",
      "25%    3.752776e+06    1.810000    0.100000    0.496190   22.448135   \n",
      "50%    9.705130e+06    2.410000    0.400000    2.223796   25.156990   \n",
      "75%    2.791973e+07    4.095000    1.300000    6.589156   26.497575   \n",
      "max    1.197070e+09    7.590000   25.900000   48.702062   28.456980   \n",
      "\n",
      "                 GDP  BMI_female        life  child_mortality  \n",
      "count     139.000000  139.000000  139.000000       139.000000  \n",
      "mean    16638.784173  126.701914   69.602878        45.097122  \n",
      "std     19207.299083    4.471997    9.122189        45.724667  \n",
      "min       588.000000  117.375500   45.200000         2.700000  \n",
      "25%      2899.000000  123.232200   62.200000         8.100000  \n",
      "50%      9938.000000  126.519600   72.000000        24.000000  \n",
      "75%     23278.500000  130.275900   76.850000        74.200000  \n",
      "max    126076.000000  135.492000   82.600000       192.000000  \n"
     ]
    },
    {
     "data": {
      "image/png": "[encoded data removed]",
      "text/plain": [
       "<Figure size 432x288 with 2 Axes>"
      ]
     },
     "metadata": {
      "needs_background": "light"
     },
     "output_type": "display_data"
    },
    {
     "name": "stdout",
     "output_type": "stream",
     "text": [
      "[82.95721362] + [[-4.44387899]] X\n",
      "R^2error 0.6192442167740035\n",
      "RMSE error 5.60860019139309\n"
     ]
    }
   ],
   "source": [
    "import numpy as np\n",
    "from sklearn.linear_model import LinearRegression\n",
    "import matplotlib.pyplot as plt\n",
    "import pandas as pd\n",
    "from sklearn.metrics import mean_squared_error\n",
    "import seaborn as sns\n",
    "\n",
    "#EXPLORING THE DATASET\n",
    "gp=pd.read_csv('gm_2008_region.csv')\n",
    "print(gp.head())\n",
    "print(gp.info())\n",
    "print(gp.describe())\n",
    "sns.heatmap(gp.corr(), square=True, cmap='RdYlGn')\n",
    "\n",
    "#SELECTING INPUT AND TARGET\n",
    "X=gp['fertility']\n",
    "y=gp['life']\n",
    "\n",
    "#RESHAPING THE DATA\n",
    "X=X.values.reshape(-1,1)\n",
    "y=y.values.reshape(-1,1)\n",
    "    \n",
    "#INTIATING LINEAR REGRESSION AND FITTING THE MODEL\n",
    "reg=LinearRegression()\n",
    "reg.fit(X,y)\n",
    "\n",
    "#PREDICT NEW TARGET UPON INPUT\n",
    "ynew=reg.predict(X)\n",
    "#PLOT THE FIT ON DATA\n",
    "plt.scatter(X,y,color='blue')\n",
    "plt.plot(X,ynew,'-')\n",
    "plt.show()\n",
    "\n",
    "#PRINT THE MODEL AND SCORE\n",
    "print(reg.intercept_,\"+\",reg.coef_,\"X\")\n",
    "print(\"R^2error\",reg.score(X,y))\n",
    "print(\"RMSE error\",np.sqrt(mean_squared_error(y,ynew)))"
   ]
  },
  {
   "cell_type": "code",
   "execution_count": null,
   "metadata": {},
   "outputs": [],
   "source": []
  }
 ],
 "metadata": {
  "kernelspec": {
   "display_name": "Python 3",
   "language": "python",
   "name": "python3"
  },
  "language_info": {
   "codemirror_mode": {
    "name": "ipython",
    "version": 3
   },
   "file_extension": ".py",
   "mimetype": "text/x-python",
   "name": "python",
   "nbconvert_exporter": "python",
   "pygments_lexer": "ipython3",
   "version": "3.7.3"
  }
 },
 "nbformat": 4,
 "nbformat_minor": 2
}
